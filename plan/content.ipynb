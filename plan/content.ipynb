{
 "cells": [
  {
   "cell_type": "code",
   "execution_count": 1,
   "metadata": {},
   "outputs": [],
   "source": [
    "import glob"
   ]
  },
  {
   "cell_type": "code",
   "execution_count": 3,
   "metadata": {},
   "outputs": [
    {
     "data": {
      "text/plain": [
       "['../notebooks/4_Production/1_GH Actions',\n",
       " '../notebooks/4_Production/2_Email Issue',\n",
       " '../notebooks/2_Strategies/2_Bollinger Any',\n",
       " '../notebooks/2_Strategies/1_Bollinger BTC',\n",
       " '../notebooks/6_Reporting/B.ipynb',\n",
       " '../notebooks/5_Backtesting/1_Simple',\n",
       " '../notebooks/5_Backtesting/2_Optimization',\n",
       " '../notebooks/3_Papermill/2_Parametrized',\n",
       " '../notebooks/3_Papermill/1_Simple',\n",
       " '../notebooks/1_Alpaca API/2_Program Order',\n",
       " '../notebooks/1_Alpaca API/3_Close Position',\n",
       " '../notebooks/1_Alpaca API/1_GUI']"
      ]
     },
     "execution_count": 3,
     "metadata": {},
     "output_type": "execute_result"
    }
   ],
   "source": [
    "glob.glob('../notebooks/*/*')"
   ]
  },
  {
   "cell_type": "code",
   "execution_count": null,
   "metadata": {},
   "outputs": [],
   "source": [
    "https://blueshift.quantinsti.com/"
   ]
  },
  {
   "cell_type": "code",
   "execution_count": null,
   "metadata": {},
   "outputs": [],
   "source": [
    "https://openquant.co/blog/trading-competitions"
   ]
  },
  {
   "cell_type": "code",
   "execution_count": null,
   "metadata": {},
   "outputs": [],
   "source": [
    "https://numer.ai/"
   ]
  },
  {
   "cell_type": "code",
   "execution_count": null,
   "metadata": {},
   "outputs": [],
   "source": [
    "https://docs.numer.ai/"
   ]
  },
  {
   "cell_type": "code",
   "execution_count": null,
   "metadata": {},
   "outputs": [],
   "source": [
    "https://www.worldquant.com/iqc/"
   ]
  },
  {
   "attachments": {},
   "cell_type": "markdown",
   "metadata": {},
   "source": [
    "https://chatgpt.com/c/0339c30f-ea62-43d1-8541-22088b2e025c"
   ]
  },
  {
   "attachments": {},
   "cell_type": "markdown",
   "metadata": {},
   "source": [
    "1. Teach people how to trade using Python\n",
    "2. Teach people how to put their strategies in a competition"
   ]
  }
 ],
 "metadata": {
  "kernelspec": {
   "display_name": "base",
   "language": "python",
   "name": "python3"
  },
  "language_info": {
   "codemirror_mode": {
    "name": "ipython",
    "version": 3
   },
   "file_extension": ".py",
   "mimetype": "text/x-python",
   "name": "python",
   "nbconvert_exporter": "python",
   "pygments_lexer": "ipython3",
   "version": "3.10.12"
  },
  "orig_nbformat": 4
 },
 "nbformat": 4,
 "nbformat_minor": 2
}
