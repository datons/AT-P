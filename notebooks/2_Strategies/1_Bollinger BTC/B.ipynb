{
 "cells": [
  {
   "attachments": {},
   "cell_type": "markdown",
   "metadata": {},
   "source": [
    "# Simulate Trading Bot Action"
   ]
  },
  {
   "attachments": {},
   "cell_type": "markdown",
   "metadata": {},
   "source": [
    "## Download historical data"
   ]
  },
  {
   "attachments": {},
   "cell_type": "markdown",
   "metadata": {},
   "source": [
    "### Prepare date range"
   ]
  },
  {
   "cell_type": "code",
   "execution_count": 9,
   "metadata": {},
   "outputs": [
    {
     "data": {
      "text/plain": [
       "datetime.date(2024, 2, 29)"
      ]
     },
     "execution_count": 9,
     "metadata": {},
     "output_type": "execute_result"
    }
   ],
   "source": [
    "from datetime import datetime, timedelta\n",
    "\n",
    "N_DAYS = 100\n",
    "\n",
    "end = datetime.today().date()\n",
    "start = end - timedelta(days=N_DAYS)\n",
    "start"
   ]
  },
  {
   "attachments": {},
   "cell_type": "markdown",
   "metadata": {},
   "source": [
    "### Prepare client"
   ]
  },
  {
   "cell_type": "code",
   "execution_count": 10,
   "metadata": {},
   "outputs": [],
   "source": [
    "import os\n",
    "\n",
    "API_KEY = os.getenv(\"API_KEY\")\n",
    "API_SECRET = os.getenv(\"API_SECRET\")"
   ]
  },
  {
   "cell_type": "code",
   "execution_count": 11,
   "metadata": {},
   "outputs": [],
   "source": [
    "from alpaca.data.historical import CryptoHistoricalDataClient\n",
    "client_data = CryptoHistoricalDataClient(API_KEY, API_SECRET)"
   ]
  },
  {
   "attachments": {},
   "cell_type": "markdown",
   "metadata": {},
   "source": [
    "### Prepare data request"
   ]
  },
  {
   "cell_type": "code",
   "execution_count": 14,
   "metadata": {},
   "outputs": [],
   "source": [
    "from alpaca.data import requests\n",
    "from alpaca.data.timeframe import TimeFrame\n",
    "\n",
    "symbol = 'BTC/USD'\n",
    "\n",
    "request = requests.CryptoBarsRequest(\n",
    "    symbol_or_symbols=symbol,\n",
    "    start=start,\n",
    "    end=end, \n",
    "    limit=100,\n",
    "    timeframe=TimeFrame.Day\n",
    ")"
   ]
  },
  {
   "attachments": {},
   "cell_type": "markdown",
   "metadata": {},
   "source": [
    "### Get data"
   ]
  },
  {
   "cell_type": "code",
   "execution_count": 16,
   "metadata": {},
   "outputs": [
    {
     "data": {
      "text/html": [
       "<div>\n",
       "<style scoped>\n",
       "    .dataframe tbody tr th:only-of-type {\n",
       "        vertical-align: middle;\n",
       "    }\n",
       "\n",
       "    .dataframe tbody tr th {\n",
       "        vertical-align: top;\n",
       "    }\n",
       "\n",
       "    .dataframe thead th {\n",
       "        text-align: right;\n",
       "    }\n",
       "</style>\n",
       "<table border=\"1\" class=\"dataframe\">\n",
       "  <thead>\n",
       "    <tr style=\"text-align: right;\">\n",
       "      <th></th>\n",
       "      <th></th>\n",
       "      <th>open</th>\n",
       "      <th>high</th>\n",
       "      <th>low</th>\n",
       "      <th>close</th>\n",
       "      <th>volume</th>\n",
       "      <th>trade_count</th>\n",
       "      <th>vwap</th>\n",
       "    </tr>\n",
       "    <tr>\n",
       "      <th>symbol</th>\n",
       "      <th>timestamp</th>\n",
       "      <th></th>\n",
       "      <th></th>\n",
       "      <th></th>\n",
       "      <th></th>\n",
       "      <th></th>\n",
       "      <th></th>\n",
       "      <th></th>\n",
       "    </tr>\n",
       "  </thead>\n",
       "  <tbody>\n",
       "    <tr>\n",
       "      <th rowspan=\"5\" valign=\"top\">BTC/USD</th>\n",
       "      <th>2024-02-29 06:00:00+00:00</th>\n",
       "      <td>62504.9235</td>\n",
       "      <td>63654.5755</td>\n",
       "      <td>60390.816</td>\n",
       "      <td>61335.7055</td>\n",
       "      <td>6.677049</td>\n",
       "      <td>510.0</td>\n",
       "      <td>62004.015570</td>\n",
       "    </tr>\n",
       "    <tr>\n",
       "      <th>2024-03-01 06:00:00+00:00</th>\n",
       "      <td>61295.6110</td>\n",
       "      <td>63110.2535</td>\n",
       "      <td>61219.930</td>\n",
       "      <td>62079.7935</td>\n",
       "      <td>6.626801</td>\n",
       "      <td>221.0</td>\n",
       "      <td>61998.490120</td>\n",
       "    </tr>\n",
       "    <tr>\n",
       "      <th>...</th>\n",
       "      <td>...</td>\n",
       "      <td>...</td>\n",
       "      <td>...</td>\n",
       "      <td>...</td>\n",
       "      <td>...</td>\n",
       "      <td>...</td>\n",
       "      <td>...</td>\n",
       "    </tr>\n",
       "    <tr>\n",
       "      <th>2024-06-06 05:00:00+00:00</th>\n",
       "      <td>71059.9955</td>\n",
       "      <td>71622.4980</td>\n",
       "      <td>70125.820</td>\n",
       "      <td>71202.7300</td>\n",
       "      <td>1.823753</td>\n",
       "      <td>76.0</td>\n",
       "      <td>71242.655428</td>\n",
       "    </tr>\n",
       "    <tr>\n",
       "      <th>2024-06-07 05:00:00+00:00</th>\n",
       "      <td>71268.8700</td>\n",
       "      <td>71924.6460</td>\n",
       "      <td>68723.705</td>\n",
       "      <td>69313.2100</td>\n",
       "      <td>1.152860</td>\n",
       "      <td>83.0</td>\n",
       "      <td>70516.503422</td>\n",
       "    </tr>\n",
       "  </tbody>\n",
       "</table>\n",
       "<p>100 rows × 7 columns</p>\n",
       "</div>"
      ],
      "text/plain": [
       "                                         open        high        low  \\\n",
       "symbol  timestamp                                                      \n",
       "BTC/USD 2024-02-29 06:00:00+00:00  62504.9235  63654.5755  60390.816   \n",
       "        2024-03-01 06:00:00+00:00  61295.6110  63110.2535  61219.930   \n",
       "...                                       ...         ...        ...   \n",
       "        2024-06-06 05:00:00+00:00  71059.9955  71622.4980  70125.820   \n",
       "        2024-06-07 05:00:00+00:00  71268.8700  71924.6460  68723.705   \n",
       "\n",
       "                                        close    volume  trade_count  \\\n",
       "symbol  timestamp                                                      \n",
       "BTC/USD 2024-02-29 06:00:00+00:00  61335.7055  6.677049        510.0   \n",
       "        2024-03-01 06:00:00+00:00  62079.7935  6.626801        221.0   \n",
       "...                                       ...       ...          ...   \n",
       "        2024-06-06 05:00:00+00:00  71202.7300  1.823753         76.0   \n",
       "        2024-06-07 05:00:00+00:00  69313.2100  1.152860         83.0   \n",
       "\n",
       "                                           vwap  \n",
       "symbol  timestamp                                \n",
       "BTC/USD 2024-02-29 06:00:00+00:00  62004.015570  \n",
       "        2024-03-01 06:00:00+00:00  61998.490120  \n",
       "...                                         ...  \n",
       "        2024-06-06 05:00:00+00:00  71242.655428  \n",
       "        2024-06-07 05:00:00+00:00  70516.503422  \n",
       "\n",
       "[100 rows x 7 columns]"
      ]
     },
     "execution_count": 16,
     "metadata": {},
     "output_type": "execute_result"
    }
   ],
   "source": [
    "response = client_data.get_crypto_bars(request)\n",
    "df = response.df\n",
    "df"
   ]
  },
  {
   "attachments": {},
   "cell_type": "markdown",
   "metadata": {},
   "source": [
    "## Bollinger Strategy"
   ]
  },
  {
   "attachments": {},
   "cell_type": "markdown",
   "metadata": {},
   "source": [
    "### Calculate bands"
   ]
  },
  {
   "cell_type": "code",
   "execution_count": 20,
   "metadata": {
    "tags": []
   },
   "outputs": [
    {
     "data": {
      "text/html": [
       "<div>\n",
       "<style scoped>\n",
       "    .dataframe tbody tr th:only-of-type {\n",
       "        vertical-align: middle;\n",
       "    }\n",
       "\n",
       "    .dataframe tbody tr th {\n",
       "        vertical-align: top;\n",
       "    }\n",
       "\n",
       "    .dataframe thead th {\n",
       "        text-align: right;\n",
       "    }\n",
       "</style>\n",
       "<table border=\"1\" class=\"dataframe\">\n",
       "  <thead>\n",
       "    <tr style=\"text-align: right;\">\n",
       "      <th></th>\n",
       "      <th>close</th>\n",
       "      <th>upper</th>\n",
       "      <th>lower</th>\n",
       "    </tr>\n",
       "    <tr>\n",
       "      <th>timestamp</th>\n",
       "      <th></th>\n",
       "      <th></th>\n",
       "      <th></th>\n",
       "    </tr>\n",
       "  </thead>\n",
       "  <tbody>\n",
       "    <tr>\n",
       "      <th>2024-02-29 06:00:00+00:00</th>\n",
       "      <td>61335.7055</td>\n",
       "      <td>NaN</td>\n",
       "      <td>NaN</td>\n",
       "    </tr>\n",
       "    <tr>\n",
       "      <th>2024-03-01 06:00:00+00:00</th>\n",
       "      <td>62079.7935</td>\n",
       "      <td>NaN</td>\n",
       "      <td>NaN</td>\n",
       "    </tr>\n",
       "    <tr>\n",
       "      <th>...</th>\n",
       "      <td>...</td>\n",
       "      <td>...</td>\n",
       "      <td>...</td>\n",
       "    </tr>\n",
       "    <tr>\n",
       "      <th>2024-06-06 05:00:00+00:00</th>\n",
       "      <td>71202.7300</td>\n",
       "      <td>73501.029016</td>\n",
       "      <td>60359.970351</td>\n",
       "    </tr>\n",
       "    <tr>\n",
       "      <th>2024-06-07 05:00:00+00:00</th>\n",
       "      <td>69313.2100</td>\n",
       "      <td>73483.645996</td>\n",
       "      <td>60898.725037</td>\n",
       "    </tr>\n",
       "  </tbody>\n",
       "</table>\n",
       "<p>100 rows × 3 columns</p>\n",
       "</div>"
      ],
      "text/plain": [
       "                                close         upper         lower\n",
       "timestamp                                                        \n",
       "2024-02-29 06:00:00+00:00  61335.7055           NaN           NaN\n",
       "2024-03-01 06:00:00+00:00  62079.7935           NaN           NaN\n",
       "...                               ...           ...           ...\n",
       "2024-06-06 05:00:00+00:00  71202.7300  73501.029016  60359.970351\n",
       "2024-06-07 05:00:00+00:00  69313.2100  73483.645996  60898.725037\n",
       "\n",
       "[100 rows x 3 columns]"
      ]
     },
     "execution_count": 20,
     "metadata": {},
     "output_type": "execute_result"
    }
   ],
   "source": [
    "df_bollinger = df.loc[symbol, 'close'].to_frame()\n",
    "\n",
    "K = 2\n",
    "N_WINDOWS = 30\n",
    "\n",
    "rolling_std = df_bollinger.close.rolling(N_WINDOWS).std()\n",
    "rolling_mean = df_bollinger.close.rolling(N_WINDOWS).mean()\n",
    "\n",
    "df_bollinger = (df_bollinger\n",
    " .assign(\n",
    "     upper = rolling_mean + rolling_std * K,\n",
    "     lower = rolling_mean - rolling_std * K)\n",
    ")\n",
    "\n",
    "df_bollinger"
   ]
  },
  {
   "attachments": {},
   "cell_type": "markdown",
   "metadata": {},
   "source": [
    "### Visualize data"
   ]
  },
  {
   "cell_type": "code",
   "execution_count": 21,
   "metadata": {},
   "outputs": [
    {
     "data": {
      "image/png": "[encoded data removed]",
      "text/plain": [
       "<Figure size 640x480 with 1 Axes>"
      ]
     },
     "metadata": {},
     "output_type": "display_data"
    }
   ],
   "source": [
    "df_bollinger.plot();"
   ]
  },
  {
   "attachments": {},
   "cell_type": "markdown",
   "metadata": {},
   "source": [
    "## Prepare orders"
   ]
  },
  {
   "attachments": {},
   "cell_type": "markdown",
   "metadata": {},
   "source": [
    "### Prepare Alpaca Trading API"
   ]
  },
  {
   "cell_type": "code",
   "execution_count": 22,
   "metadata": {},
   "outputs": [],
   "source": [
    "from alpaca.trading.client import TradingClient\n",
    "client_trading = TradingClient(API_KEY, API_SECRET, paper=True)"
   ]
  },
  {
   "attachments": {},
   "cell_type": "markdown",
   "metadata": {},
   "source": [
    "### Configure market order request"
   ]
  },
  {
   "cell_type": "code",
   "execution_count": 23,
   "metadata": {
    "tags": []
   },
   "outputs": [
    {
     "data": {
      "text/plain": [
       "{   'client_order_id': None,\n",
       "    'extended_hours': None,\n",
       "    'notional': None,\n",
       "    'order_class': None,\n",
       "    'position_intent': None,\n",
       "    'qty': 0.1,\n",
       "    'side': <OrderSide.BUY: 'buy'>,\n",
       "    'stop_loss': None,\n",
       "    'symbol': 'BTCUSD',\n",
       "    'take_profit': None,\n",
       "    'time_in_force': <TimeInForce.GTC: 'gtc'>,\n",
       "    'type': <OrderType.MARKET: 'market'>}"
      ]
     },
     "execution_count": 23,
     "metadata": {},
     "output_type": "execute_result"
    }
   ],
   "source": [
    "from alpaca.trading.requests import MarketOrderRequest\n",
    "from alpaca.trading.enums import OrderSide, TimeInForce\n",
    "\n",
    "symbol = 'BTCUSD'\n",
    "\n",
    "request_order = MarketOrderRequest(\n",
    "    symbol=symbol,\n",
    "    qty=0.1,\n",
    "    side=OrderSide.BUY,\n",
    "    time_in_force=TimeInForce.GTC)\n",
    "\n",
    "request_order"
   ]
  },
  {
   "attachments": {},
   "cell_type": "markdown",
   "metadata": {},
   "source": [
    "```python\n",
    "# Order to Buy and Open Position\n",
    "request = client_trading.submit_order(order_data=request_order)\n",
    "\n",
    "# close position\n",
    "request = client_trading.close_position(symbol)\n",
    "```"
   ]
  },
  {
   "attachments": {},
   "cell_type": "markdown",
   "metadata": {},
   "source": [
    "## Execute the order"
   ]
  },
  {
   "attachments": {},
   "cell_type": "markdown",
   "metadata": {},
   "source": [
    "### Get last price"
   ]
  },
  {
   "cell_type": "code",
   "execution_count": 24,
   "metadata": {},
   "outputs": [
    {
     "data": {
      "text/plain": [
       "close    69313.210000\n",
       "upper    73483.645996\n",
       "lower    60898.725037\n",
       "Name: 2024-06-07 05:00:00+00:00, dtype: float64"
      ]
     },
     "execution_count": 24,
     "metadata": {},
     "output_type": "execute_result"
    }
   ],
   "source": [
    "last_day = df_bollinger.iloc[-1]\n",
    "last_day"
   ]
  },
  {
   "cell_type": "code",
   "execution_count": 25,
   "metadata": {},
   "outputs": [],
   "source": [
    "close, upper, lower = last_day"
   ]
  },
  {
   "attachments": {},
   "cell_type": "markdown",
   "metadata": {},
   "source": [
    "### Open position?"
   ]
  },
  {
   "cell_type": "code",
   "execution_count": 26,
   "metadata": {},
   "outputs": [],
   "source": [
    "try:\n",
    "    client_trading.get_open_position(symbol)\n",
    "    flag_bought = True\n",
    "except Exception as e:\n",
    "    flag_bought = False\n",
    "    print(e)"
   ]
  },
  {
   "attachments": {},
   "cell_type": "markdown",
   "metadata": {},
   "source": [
    "### Conditionals with signals"
   ]
  },
  {
   "cell_type": "code",
   "execution_count": 27,
   "metadata": {},
   "outputs": [
    {
     "data": {
      "text/plain": [
       "'No trade executed.'"
      ]
     },
     "execution_count": 27,
     "metadata": {},
     "output_type": "execute_result"
    }
   ],
   "source": [
    "if (lower > close) and  (not flag_bought):\n",
    "    request = client_trading.submit_order(order_data=request_order)\n",
    "elif (close > upper) and (flag_bought):\n",
    "    request = client_trading.close_position(symbol)\n",
    "else:\n",
    "    request = 'No trade executed.'\n",
    "    \n",
    "request"
   ]
  }
 ],
 "metadata": {
  "Author": "Jesús López",
  "Company": "Datons Academy",
  "Copyright": "Copyright 2023, Jesús López",
  "kernelspec": {
   "display_name": "algo-trading",
   "language": "python",
   "name": "python3"
  },
  "language_info": {
   "codemirror_mode": {
    "name": "ipython",
    "version": 3
   },
   "file_extension": ".py",
   "mimetype": "text/x-python",
   "name": "python",
   "nbconvert_exporter": "python",
   "pygments_lexer": "ipython3",
   "version": "3.10.12"
  }
 },
 "nbformat": 4,
 "nbformat_minor": 2
}
