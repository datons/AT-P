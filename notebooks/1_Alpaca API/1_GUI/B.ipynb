{
 "cells": [
  {
   "attachments": {},
   "cell_type": "markdown",
   "metadata": {},
   "source": [
    "# Alpaca Trading Account"
   ]
  },
  {
   "attachments": {},
   "cell_type": "markdown",
   "metadata": {},
   "source": [
    "![](src/cover.png)"
   ]
  },
  {
   "attachments": {},
   "cell_type": "markdown",
   "metadata": {},
   "source": [
    "## Create Alpaca Account\n",
    "\n",
    "https://alpaca.markets/\n",
    "\n",
    "<div class=\"alert alert-warning\">\n",
    "    DON'T provide your financial information (credit cards).  This must be a demo account.\n",
    "</div>"
   ]
  },
  {
   "attachments": {},
   "cell_type": "markdown",
   "metadata": {},
   "source": [
    "## Alpaca Dashboard (Web App)\n",
    "\n",
    "Submit your first order from the Alpaca dashboard.\n",
    "\n",
    "1. Buy one share of Bitcoin (BTC) at the market price.\n",
    "2. Close the position at the market price.\n",
    "3. Reflect how the position is reflected in the Alpaca dashboard."
   ]
  }
 ],
 "metadata": {
  "Author": "Jesús López",
  "Company": "Datons Academy",
  "Copyright": "Copyright 2023, Jesús López",
  "kernelspec": {
   "display_name": "Python 3 (ipykernel)",
   "language": "python",
   "name": "python3"
  },
  "language_info": {
   "codemirror_mode": {
    "name": "ipython",
    "version": 3
   },
   "file_extension": ".py",
   "mimetype": "text/x-python",
   "name": "python",
   "nbconvert_exporter": "python",
   "pygments_lexer": "ipython3",
   "version": "3.10.12"
  }
 },
 "nbformat": 4,
 "nbformat_minor": 4
}
