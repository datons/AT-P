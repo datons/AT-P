{
 "cells": [
  {
   "attachments": {},
   "cell_type": "markdown",
   "metadata": {},
   "source": [
    "# Program trading order from Python"
   ]
  },
  {
   "attachments": {},
   "cell_type": "markdown",
   "metadata": {},
   "source": [
    "## Overview\n",
    "\n",
    "1. Install Alpaca Python SDK.\n",
    "2. Get API key from [Alpaca](https://alpaca.markets/).\n",
    "3. Submit an order to buy 1 share of Bitcoin `BTCUSD`.\n",
    "4. Check the [order status](https://app.alpaca.markets/orders).\n",
    "5. If the order was filled, close (sell) the position.\n",
    "6. Check the [position status](https://app.alpaca.markets/positions)."
   ]
  },
  {
   "attachments": {},
   "cell_type": "markdown",
   "metadata": {},
   "source": [
    "## Install Alpaca Library\n",
    "```bash\n",
    "pip install alpaca-py\n",
    "```"
   ]
  },
  {
   "attachments": {},
   "cell_type": "markdown",
   "metadata": {},
   "source": [
    "## API Key"
   ]
  },
  {
   "cell_type": "code",
   "execution_count": 1,
   "metadata": {},
   "outputs": [],
   "source": [
    "import os\n",
    "\n",
    "API_KEY = os.getenv('API_KEY')\n",
    "API_SECRET = os.getenv('API_SECRET')"
   ]
  },
  {
   "attachments": {},
   "cell_type": "markdown",
   "metadata": {},
   "source": [
    "## Instantiate Python client for Alpaca API"
   ]
  },
  {
   "cell_type": "code",
   "execution_count": 2,
   "metadata": {},
   "outputs": [],
   "source": [
    "from alpaca.trading.client import TradingClient\n",
    "client = TradingClient(API_KEY, API_SECRET, paper=True)"
   ]
  },
  {
   "cell_type": "code",
   "execution_count": 3,
   "metadata": {},
   "outputs": [
    {
     "name": "stdout",
     "output_type": "stream",
     "text": [
      "\u001b[0;31mInit signature:\u001b[0m\n",
      "\u001b[0mTradingClient\u001b[0m\u001b[0;34m(\u001b[0m\u001b[0;34m\u001b[0m\n",
      "\u001b[0;34m\u001b[0m    \u001b[0mapi_key\u001b[0m\u001b[0;34m:\u001b[0m \u001b[0mOptional\u001b[0m\u001b[0;34m[\u001b[0m\u001b[0mstr\u001b[0m\u001b[0;34m]\u001b[0m \u001b[0;34m=\u001b[0m \u001b[0;32mNone\u001b[0m\u001b[0;34m,\u001b[0m\u001b[0;34m\u001b[0m\n",
      "\u001b[0;34m\u001b[0m    \u001b[0msecret_key\u001b[0m\u001b[0;34m:\u001b[0m \u001b[0mOptional\u001b[0m\u001b[0;34m[\u001b[0m\u001b[0mstr\u001b[0m\u001b[0;34m]\u001b[0m \u001b[0;34m=\u001b[0m \u001b[0;32mNone\u001b[0m\u001b[0;34m,\u001b[0m\u001b[0;34m\u001b[0m\n",
      "\u001b[0;34m\u001b[0m    \u001b[0moauth_token\u001b[0m\u001b[0;34m:\u001b[0m \u001b[0mOptional\u001b[0m\u001b[0;34m[\u001b[0m\u001b[0mstr\u001b[0m\u001b[0;34m]\u001b[0m \u001b[0;34m=\u001b[0m \u001b[0;32mNone\u001b[0m\u001b[0;34m,\u001b[0m\u001b[0;34m\u001b[0m\n",
      "\u001b[0;34m\u001b[0m    \u001b[0mpaper\u001b[0m\u001b[0;34m:\u001b[0m \u001b[0mbool\u001b[0m \u001b[0;34m=\u001b[0m \u001b[0;32mTrue\u001b[0m\u001b[0;34m,\u001b[0m\u001b[0;34m\u001b[0m\n",
      "\u001b[0;34m\u001b[0m    \u001b[0mraw_data\u001b[0m\u001b[0;34m:\u001b[0m \u001b[0mbool\u001b[0m \u001b[0;34m=\u001b[0m \u001b[0;32mFalse\u001b[0m\u001b[0;34m,\u001b[0m\u001b[0;34m\u001b[0m\n",
      "\u001b[0;34m\u001b[0m    \u001b[0murl_override\u001b[0m\u001b[0;34m:\u001b[0m \u001b[0mOptional\u001b[0m\u001b[0;34m[\u001b[0m\u001b[0mstr\u001b[0m\u001b[0;34m]\u001b[0m \u001b[0;34m=\u001b[0m \u001b[0;32mNone\u001b[0m\u001b[0;34m,\u001b[0m\u001b[0;34m\u001b[0m\n",
      "\u001b[0;34m\u001b[0m\u001b[0;34m)\u001b[0m \u001b[0;34m->\u001b[0m \u001b[0;32mNone\u001b[0m\u001b[0;34m\u001b[0m\u001b[0;34m\u001b[0m\u001b[0m\n",
      "\u001b[0;31mDocstring:\u001b[0m      A client to interact with the trading API, in both paper and live mode.\n",
      "\u001b[0;31mInit docstring:\u001b[0m\n",
      "Instantiates a client for trading and managing personal brokerage accounts.\n",
      "\n",
      "Args:\n",
      "    api_key (Optional[str]): The API key for trading. Use paper keys if paper is set to true.\n",
      "    secret_key (Optional[str]): The secret key for trading. Use paper keys if paper is set to true.\n",
      "    oauth_token (Optional[str]): The oauth token for trading on behalf of end user.\n",
      "    paper (bool): True is paper trading should be enabled.\n",
      "    raw_data (bool): Whether API responses should be wrapped in data models or returned raw.\n",
      "        This has not been implemented yet.\n",
      "    url_override (Optional[str]): If specified allows you to override the base url the client points to for proxy/testing.\n",
      "\u001b[0;31mFile:\u001b[0m           ~/miniforge3/lib/python3.10/site-packages/alpaca/trading/client.py\n",
      "\u001b[0;31mType:\u001b[0m           ABCMeta\n",
      "\u001b[0;31mSubclasses:\u001b[0m     "
     ]
    }
   ],
   "source": [
    "TradingClient?"
   ]
  },
  {
   "attachments": {},
   "cell_type": "markdown",
   "metadata": {},
   "source": [
    "## Prepare order"
   ]
  },
  {
   "cell_type": "code",
   "execution_count": 55,
   "metadata": {},
   "outputs": [],
   "source": [
    "from alpaca.trading import requests, enums\n",
    "\n",
    "request_order = requests.MarketOrderRequest(\n",
    "    symbol='BTCUSD',\n",
    "    notional=10_000,\n",
    "    side=enums.OrderSide.BUY,\n",
    "    time_in_force=enums.TimeInForce.GTC,\n",
    ")"
   ]
  },
  {
   "attachments": {},
   "cell_type": "markdown",
   "metadata": {},
   "source": [
    "## Submit order"
   ]
  },
  {
   "cell_type": "code",
   "execution_count": 56,
   "metadata": {},
   "outputs": [
    {
     "data": {
      "text/plain": [
       "{   'asset_class': <AssetClass.CRYPTO: 'crypto'>,\n",
       "    'asset_id': UUID('276e2673-764b-4ab6-a611-caf665ca6340'),\n",
       "    'canceled_at': None,\n",
       "    'client_order_id': 'a822fe4d-7335-44a7-9f0d-a7f1cf7699ef',\n",
       "    'created_at': datetime.datetime(2024, 6, 7, 18, 9, 56, 333066, tzinfo=TzInfo(UTC)),\n",
       "    'expired_at': None,\n",
       "    'extended_hours': False,\n",
       "    'failed_at': None,\n",
       "    'filled_at': None,\n",
       "    'filled_avg_price': None,\n",
       "    'filled_qty': '0',\n",
       "    'hwm': None,\n",
       "    'id': UUID('66aa53a1-8af3-41b0-b820-048c8a2bbe9d'),\n",
       "    'legs': None,\n",
       "    'limit_price': None,\n",
       "    'notional': '10000',\n",
       "    'order_class': <OrderClass.SIMPLE: 'simple'>,\n",
       "    'order_type': <OrderType.MARKET: 'market'>,\n",
       "    'qty': None,\n",
       "    'replaced_at': None,\n",
       "    'replaced_by': None,\n",
       "    'replaces': None,\n",
       "    'side': <OrderSide.BUY: 'buy'>,\n",
       "    'status': <OrderStatus.PENDING_NEW: 'pending_new'>,\n",
       "    'stop_price': None,\n",
       "    'submitted_at': datetime.datetime(2024, 6, 7, 18, 9, 56, 333066, tzinfo=TzInfo(UTC)),\n",
       "    'symbol': 'BTC/USD',\n",
       "    'time_in_force': <TimeInForce.GTC: 'gtc'>,\n",
       "    'trail_percent': None,\n",
       "    'trail_price': None,\n",
       "    'type': <OrderType.MARKET: 'market'>,\n",
       "    'updated_at': datetime.datetime(2024, 6, 7, 18, 9, 56, 333527, tzinfo=TzInfo(UTC))}"
      ]
     },
     "execution_count": 56,
     "metadata": {},
     "output_type": "execute_result"
    }
   ],
   "source": [
    "response = client.submit_order(request_order)\n",
    "response"
   ]
  },
  {
   "cell_type": "code",
   "execution_count": 57,
   "metadata": {},
   "outputs": [],
   "source": [
    "data = response.dict()\n",
    "data"
   ]
  },
  {
   "cell_type": "code",
   "execution_count": 58,
   "metadata": {},
   "outputs": [
    {
     "data": {
      "text/html": [
       "<div>\n",
       "<style scoped>\n",
       "    .dataframe tbody tr th:only-of-type {\n",
       "        vertical-align: middle;\n",
       "    }\n",
       "\n",
       "    .dataframe tbody tr th {\n",
       "        vertical-align: top;\n",
       "    }\n",
       "\n",
       "    .dataframe thead th {\n",
       "        text-align: right;\n",
       "    }\n",
       "</style>\n",
       "<table border=\"1\" class=\"dataframe\">\n",
       "  <thead>\n",
       "    <tr style=\"text-align: right;\">\n",
       "      <th></th>\n",
       "      <th>id</th>\n",
       "      <th>client_order_id</th>\n",
       "      <th>created_at</th>\n",
       "      <th>updated_at</th>\n",
       "      <th>submitted_at</th>\n",
       "      <th>filled_at</th>\n",
       "      <th>expired_at</th>\n",
       "      <th>canceled_at</th>\n",
       "      <th>failed_at</th>\n",
       "      <th>replaced_at</th>\n",
       "      <th>replaced_by</th>\n",
       "      <th>replaces</th>\n",
       "      <th>asset_id</th>\n",
       "      <th>symbol</th>\n",
       "      <th>asset_class</th>\n",
       "      <th>notional</th>\n",
       "      <th>qty</th>\n",
       "      <th>filled_qty</th>\n",
       "      <th>filled_avg_price</th>\n",
       "      <th>order_class</th>\n",
       "      <th>order_type</th>\n",
       "      <th>type</th>\n",
       "      <th>side</th>\n",
       "      <th>time_in_force</th>\n",
       "      <th>limit_price</th>\n",
       "      <th>stop_price</th>\n",
       "      <th>status</th>\n",
       "      <th>extended_hours</th>\n",
       "      <th>legs</th>\n",
       "      <th>trail_percent</th>\n",
       "      <th>trail_price</th>\n",
       "      <th>hwm</th>\n",
       "    </tr>\n",
       "  </thead>\n",
       "  <tbody>\n",
       "    <tr>\n",
       "      <th>0</th>\n",
       "      <td>66aa53a1-8af3-41b0-b820-048c8a2bbe9d</td>\n",
       "      <td>a822fe4d-7335-44a7-9f0d-a7f1cf7699ef</td>\n",
       "      <td>2024-06-07 18:09:56.333066+00:00</td>\n",
       "      <td>2024-06-07 18:09:56.333527+00:00</td>\n",
       "      <td>2024-06-07 18:09:56.333066+00:00</td>\n",
       "      <td>None</td>\n",
       "      <td>None</td>\n",
       "      <td>None</td>\n",
       "      <td>None</td>\n",
       "      <td>None</td>\n",
       "      <td>None</td>\n",
       "      <td>None</td>\n",
       "      <td>276e2673-764b-4ab6-a611-caf665ca6340</td>\n",
       "      <td>BTC/USD</td>\n",
       "      <td>AssetClass.CRYPTO</td>\n",
       "      <td>10000</td>\n",
       "      <td>None</td>\n",
       "      <td>0</td>\n",
       "      <td>None</td>\n",
       "      <td>OrderClass.SIMPLE</td>\n",
       "      <td>OrderType.MARKET</td>\n",
       "      <td>OrderType.MARKET</td>\n",
       "      <td>OrderSide.BUY</td>\n",
       "      <td>TimeInForce.GTC</td>\n",
       "      <td>None</td>\n",
       "      <td>None</td>\n",
       "      <td>OrderStatus.PENDING_NEW</td>\n",
       "      <td>False</td>\n",
       "      <td>None</td>\n",
       "      <td>None</td>\n",
       "      <td>None</td>\n",
       "      <td>None</td>\n",
       "    </tr>\n",
       "  </tbody>\n",
       "</table>\n",
       "</div>"
      ],
      "text/plain": [
       "                                     id                       client_order_id  \\\n",
       "0  66aa53a1-8af3-41b0-b820-048c8a2bbe9d  a822fe4d-7335-44a7-9f0d-a7f1cf7699ef   \n",
       "\n",
       "                        created_at                       updated_at  \\\n",
       "0 2024-06-07 18:09:56.333066+00:00 2024-06-07 18:09:56.333527+00:00   \n",
       "\n",
       "                      submitted_at filled_at expired_at canceled_at failed_at  \\\n",
       "0 2024-06-07 18:09:56.333066+00:00      None       None        None      None   \n",
       "\n",
       "  replaced_at replaced_by replaces                              asset_id  \\\n",
       "0        None        None     None  276e2673-764b-4ab6-a611-caf665ca6340   \n",
       "\n",
       "    symbol        asset_class notional   qty filled_qty filled_avg_price  \\\n",
       "0  BTC/USD  AssetClass.CRYPTO    10000  None          0             None   \n",
       "\n",
       "         order_class        order_type              type           side  \\\n",
       "0  OrderClass.SIMPLE  OrderType.MARKET  OrderType.MARKET  OrderSide.BUY   \n",
       "\n",
       "     time_in_force limit_price stop_price                   status  \\\n",
       "0  TimeInForce.GTC        None       None  OrderStatus.PENDING_NEW   \n",
       "\n",
       "   extended_hours  legs trail_percent trail_price   hwm  \n",
       "0           False  None          None        None  None  "
      ]
     },
     "execution_count": 58,
     "metadata": {},
     "output_type": "execute_result"
    }
   ],
   "source": [
    "import pandas as pd\n",
    "pd.DataFrame(data, index=[0])"
   ]
  },
  {
   "attachments": {},
   "cell_type": "markdown",
   "metadata": {},
   "source": [
    "### Check Order Status\n",
    "\n",
    "https://app.alpaca.markets/orders"
   ]
  }
 ],
 "metadata": {
  "Author": "Jesús López",
  "Company": "Datons Academy",
  "Copyright": "Copyright 2023, Jesús López",
  "kernelspec": {
   "display_name": "Python 3 (ipykernel)",
   "language": "python",
   "name": "python3"
  },
  "language_info": {
   "codemirror_mode": {
    "name": "ipython",
    "version": 3
   },
   "file_extension": ".py",
   "mimetype": "text/x-python",
   "name": "python",
   "nbconvert_exporter": "python",
   "pygments_lexer": "ipython3",
   "version": "3.10.12"
  }
 },
 "nbformat": 4,
 "nbformat_minor": 4
}
